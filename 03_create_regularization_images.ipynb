{
 "cells": [
  {
   "cell_type": "markdown",
   "metadata": {},
   "source": [
    "Now, we create the regularization images"
   ]
  },
  {
   "cell_type": "code",
   "execution_count": null,
   "metadata": {},
   "outputs": [],
   "source": [
    "class_name = \"person\"\n",
    "!python scripts/stable_txt2img.py --ddim_eta 0.0 --n_samples 100 --n_iter 1 --scale 10.0 --ddim_steps 50  --ckpt /workspace/Dreambooth-Stable-Diffusion/install_done/sd-v1-4-full-ema.ckpt --prompt \"a photo of a {class_name}\" --outdir /workspace/DreamBooth-Stable-Diffusion/regularization_{class_name}"
   ]
  }
 ],
 "metadata": {
  "language_info": {
   "name": "python"
  },
  "orig_nbformat": 4
 },
 "nbformat": 4,
 "nbformat_minor": 2
}
