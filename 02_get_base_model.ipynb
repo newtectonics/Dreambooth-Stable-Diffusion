{
 "cells": [
  {
   "cell_type": "markdown",
   "metadata": {},
   "source": [
    "Now, We fetch the base model. Borrowed from Ion Cannon"
   ]
  },
  {
   "cell_type": "code",
   "execution_count": null,
   "metadata": {},
   "outputs": [],
   "source": [
    "\n",
    "model_path = '/workspace/Dreambooth-Ion-Cannon/model.ckpt'\n",
    "valid_model_size = 4265380512 # doing this instead of SHA256 checksum, it's quicker\n",
    "\n",
    "already_exists = os.path.exists(model_path)\n",
    "print('Does model.ckpt exist: ' + str(already_exists))\n",
    "correct_model_size = False\n",
    "\n",
    "if (already_exists):\n",
    "    model_size = os.path.getsize(model_path)\n",
    "    print('model.ckpt size in bytes: ' + str(model_size))\n",
    "    if (model_size == valid_model_size):\n",
    "        print('No need to (re)download, model already present')\n",
    "        correct_model_size= True\n",
    "\n",
    "if ((not already_exists) or (not correct_model_size)):\n",
    "    !git clone https://github.com/laurenceday/Stable-Diffusion-1.4.git\n",
    "\n",
    "    import multivolumefile\n",
    "    import py7zr\n",
    "    with multivolumefile.open('/workspace/Dreambooth-Ion-Cannon/Stable-Diffusion-1.4/model.7z', mode='rb') as target_archive:\n",
    "        with py7zr.SevenZipFile(target_archive, 'r') as archive:\n",
    "            archive.extractall()\n",
    "    \n",
    "    # Remove repository and contents so git doesn't complain if it needs to rerun\n",
    "    !rm -rf '/workspace/Dreambooth-Ion-Cannon/Stable-Diffusion-1.4'"
   ]
  },
  {
   "cell_type": "code",
   "execution_count": null,
   "metadata": {},
   "outputs": [],
   "source": []
  }
 ],
 "metadata": {
  "language_info": {
   "name": "python"
  },
  "orig_nbformat": 4
 },
 "nbformat": 4,
 "nbformat_minor": 2
}
